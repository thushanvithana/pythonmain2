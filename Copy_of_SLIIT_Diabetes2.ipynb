{
  "cells": [
    {
      "cell_type": "code",
      "execution_count": 107,
      "metadata": {
        "id": "EwGF-GIB0oTn"
      },
      "outputs": [],
      "source": [
        "import pandas as pd\n",
        "import numpy as np\n",
        "import matplotlib.pyplot as plt\n",
        "import tensorflow as tf\n",
        "from tensorflow.keras.models import Sequential\n",
        "from tensorflow.keras.layers import Dense, Dropout, BatchNormalization\n",
        "from tensorflow.keras.callbacks import EarlyStopping, ModelCheckpoint\n",
        "from sklearn.model_selection import train_test_split\n",
        "from sklearn.preprocessing import StandardScaler\n",
        "from sklearn.utils.class_weight import compute_class_weight\n",
        "from sklearn.metrics import confusion_matrix, accuracy_score, precision_score, recall_score, f1_score"
      ]
    },
    {
      "cell_type": "code",
      "execution_count": 108,
      "metadata": {
        "id": "llqMDWtz0oRB"
      },
      "outputs": [
        {
          "data": {
            "text/html": [
              "<div>\n",
              "<style scoped>\n",
              "    .dataframe tbody tr th:only-of-type {\n",
              "        vertical-align: middle;\n",
              "    }\n",
              "\n",
              "    .dataframe tbody tr th {\n",
              "        vertical-align: top;\n",
              "    }\n",
              "\n",
              "    .dataframe thead th {\n",
              "        text-align: right;\n",
              "    }\n",
              "</style>\n",
              "<table border=\"1\" class=\"dataframe\">\n",
              "  <thead>\n",
              "    <tr style=\"text-align: right;\">\n",
              "      <th></th>\n",
              "      <th>Pregnancies</th>\n",
              "      <th>Glucose</th>\n",
              "      <th>BloodPressure</th>\n",
              "      <th>SkinThickness</th>\n",
              "      <th>Insulin</th>\n",
              "      <th>BMI</th>\n",
              "      <th>DiabetesPedigreeFunction</th>\n",
              "      <th>Age</th>\n",
              "      <th>Outcome</th>\n",
              "    </tr>\n",
              "  </thead>\n",
              "  <tbody>\n",
              "    <tr>\n",
              "      <th>0</th>\n",
              "      <td>6</td>\n",
              "      <td>148</td>\n",
              "      <td>72</td>\n",
              "      <td>35</td>\n",
              "      <td>0</td>\n",
              "      <td>33.6</td>\n",
              "      <td>0.627</td>\n",
              "      <td>50</td>\n",
              "      <td>1</td>\n",
              "    </tr>\n",
              "    <tr>\n",
              "      <th>1</th>\n",
              "      <td>1</td>\n",
              "      <td>85</td>\n",
              "      <td>66</td>\n",
              "      <td>29</td>\n",
              "      <td>0</td>\n",
              "      <td>26.6</td>\n",
              "      <td>0.351</td>\n",
              "      <td>31</td>\n",
              "      <td>0</td>\n",
              "    </tr>\n",
              "    <tr>\n",
              "      <th>2</th>\n",
              "      <td>8</td>\n",
              "      <td>183</td>\n",
              "      <td>64</td>\n",
              "      <td>0</td>\n",
              "      <td>0</td>\n",
              "      <td>23.3</td>\n",
              "      <td>0.672</td>\n",
              "      <td>32</td>\n",
              "      <td>1</td>\n",
              "    </tr>\n",
              "    <tr>\n",
              "      <th>3</th>\n",
              "      <td>1</td>\n",
              "      <td>89</td>\n",
              "      <td>66</td>\n",
              "      <td>23</td>\n",
              "      <td>94</td>\n",
              "      <td>28.1</td>\n",
              "      <td>0.167</td>\n",
              "      <td>21</td>\n",
              "      <td>0</td>\n",
              "    </tr>\n",
              "    <tr>\n",
              "      <th>4</th>\n",
              "      <td>0</td>\n",
              "      <td>137</td>\n",
              "      <td>40</td>\n",
              "      <td>35</td>\n",
              "      <td>168</td>\n",
              "      <td>43.1</td>\n",
              "      <td>2.288</td>\n",
              "      <td>33</td>\n",
              "      <td>1</td>\n",
              "    </tr>\n",
              "  </tbody>\n",
              "</table>\n",
              "</div>"
            ],
            "text/plain": [
              "   Pregnancies  Glucose  BloodPressure  SkinThickness  Insulin   BMI  \\\n",
              "0            6      148             72             35        0  33.6   \n",
              "1            1       85             66             29        0  26.6   \n",
              "2            8      183             64              0        0  23.3   \n",
              "3            1       89             66             23       94  28.1   \n",
              "4            0      137             40             35      168  43.1   \n",
              "\n",
              "   DiabetesPedigreeFunction  Age  Outcome  \n",
              "0                     0.627   50        1  \n",
              "1                     0.351   31        0  \n",
              "2                     0.672   32        1  \n",
              "3                     0.167   21        0  \n",
              "4                     2.288   33        1  "
            ]
          },
          "execution_count": 108,
          "metadata": {},
          "output_type": "execute_result"
        }
      ],
      "source": [
        "data = pd.read_csv('dataset/diabetes.csv')\n",
        "data.head()"
      ]
    },
    {
      "cell_type": "code",
      "execution_count": 4,
      "metadata": {
        "id": "EvpVOISs0oOQ"
      },
      "outputs": [],
      "source": [
        "X = data.drop(columns=['Outcome']).values\n",
        "y = data['Outcome'].values\n"
      ]
    },
    {
      "cell_type": "code",
      "execution_count": 109,
      "metadata": {
        "id": "SFGK3XhK0oLj"
      },
      "outputs": [],
      "source": [
        "X_train, X_test, y_train, y_test = train_test_split(X, y, test_size=0.2, random_state=42)\n"
      ]
    },
    {
      "cell_type": "code",
      "execution_count": 110,
      "metadata": {},
      "outputs": [
        {
          "data": {
            "text/plain": [
              "((614, 8), (154, 8))"
            ]
          },
          "execution_count": 110,
          "metadata": {},
          "output_type": "execute_result"
        }
      ],
      "source": [
        "X_train.shape, X_test.shape"
      ]
    },
    {
      "cell_type": "code",
      "execution_count": 111,
      "metadata": {},
      "outputs": [],
      "source": [
        "def model_acc(model):\n",
        "    model.fit(X_train, y_train)\n",
        "    acc = model.score(X_test, y_test)\n",
        "    print(str(model)+ ' -->' +str(acc))"
      ]
    },
    {
      "cell_type": "code",
      "execution_count": 113,
      "metadata": {
        "id": "IsEUViAR0oF6"
      },
      "outputs": [],
      "source": [
        "scaler = StandardScaler()\n",
        "X_train_scaled = scaler.fit_transform(X_train)\n",
        "X_test_scaled = scaler.transform(X_test)"
      ]
    },
    {
      "cell_type": "code",
      "execution_count": 114,
      "metadata": {},
      "outputs": [
        {
          "name": "stdout",
          "output_type": "stream",
          "text": [
            "LinearRegression() -->0.2550028117674178\n"
          ]
        }
      ],
      "source": [
        "from sklearn.linear_model import LinearRegression\n",
        "lr = LinearRegression()\n",
        "model_acc(lr)"
      ]
    },
    {
      "cell_type": "code",
      "execution_count": 115,
      "metadata": {},
      "outputs": [
        {
          "name": "stderr",
          "output_type": "stream",
          "text": [
            "e:\\ResearchRetina\\New folder\\envs\\retinopathuy\\lib\\site-packages\\sklearn\\linear_model\\_logistic.py:469: ConvergenceWarning: lbfgs failed to converge (status=1):\n",
            "STOP: TOTAL NO. of ITERATIONS REACHED LIMIT.\n",
            "\n",
            "Increase the number of iterations (max_iter) or scale the data as shown in:\n",
            "    https://scikit-learn.org/stable/modules/preprocessing.html\n",
            "Please also refer to the documentation for alternative solver options:\n",
            "    https://scikit-learn.org/stable/modules/linear_model.html#logistic-regression\n",
            "  n_iter_i = _check_optimize_result(\n"
          ]
        },
        {
          "name": "stdout",
          "output_type": "stream",
          "text": [
            "Logistic Regression Training Accuracy: 0.7736156351791531\n",
            "Logistic Regression Testing Accuracy: 0.7467532467532467\n",
            "\n",
            "\n",
            "SVM Training Accuracy: 0.7687296416938111\n",
            "SVM Testing Accuracy: 0.7662337662337663\n",
            "\n",
            "\n",
            "Gradient Boosting Training Accuracy: 0.9381107491856677\n",
            "Gradient Boosting Testing Accuracy: 0.7402597402597403\n",
            "\n",
            "\n",
            "KNN Training Accuracy: 0.7980456026058632\n",
            "KNN Testing Accuracy: 0.6623376623376623\n",
            "\n",
            "\n",
            "Naive Bayes Training Accuracy: 0.752442996742671\n",
            "Naive Bayes Testing Accuracy: 0.7662337662337663\n",
            "\n",
            "\n",
            "Neural Network Training Accuracy: 0.7361563517915309\n",
            "Neural Network Testing Accuracy: 0.7077922077922078\n",
            "\n",
            "\n"
          ]
        }
      ],
      "source": [
        "from sklearn.model_selection import train_test_split\n",
        "from sklearn.linear_model import LogisticRegression\n",
        "from sklearn.tree import DecisionTreeClassifier\n",
        "from sklearn.ensemble import RandomForestClassifier, GradientBoostingClassifier\n",
        "from sklearn.svm import SVC\n",
        "from sklearn.neighbors import KNeighborsClassifier\n",
        "from sklearn.naive_bayes import GaussianNB\n",
        "from sklearn.neural_network import MLPClassifier\n",
        "\n",
        "# Split data into training and testing sets\n",
        "X_train, X_test, y_train, y_test = train_test_split(X, y, test_size=0.2, random_state=42)\n",
        "\n",
        "# Train Logistic Regression model\n",
        "lr = LogisticRegression()\n",
        "lr.fit(X_train, y_train)\n",
        "\n",
        "# Evaluate Logistic Regression model accuracy\n",
        "lr_train_acc = lr.score(X_train, y_train)\n",
        "lr_test_acc = lr.score(X_test, y_test)\n",
        "print(\"Logistic Regression Training Accuracy:\", lr_train_acc)\n",
        "print(\"Logistic Regression Testing Accuracy:\", lr_test_acc)\n",
        "print(\"\\n\")\n",
        "\n",
        "# Train SVM model\n",
        "svm_model = SVC()\n",
        "svm_model.fit(X_train, y_train)\n",
        "\n",
        "# Evaluate SVM model accuracy\n",
        "svm_train_acc = svm_model.score(X_train, y_train)\n",
        "svm_test_acc = svm_model.score(X_test, y_test)\n",
        "print(\"SVM Training Accuracy:\", svm_train_acc)\n",
        "print(\"SVM Testing Accuracy:\", svm_test_acc)\n",
        "print(\"\\n\")\n",
        "# Train Gradient Boosting model\n",
        "gradient_boosting_model = GradientBoostingClassifier()\n",
        "gradient_boosting_model.fit(X_train, y_train)\n",
        "\n",
        "# Evaluate Gradient Boosting model accuracy\n",
        "gb_train_acc = gradient_boosting_model.score(X_train, y_train)\n",
        "gb_test_acc = gradient_boosting_model.score(X_test, y_test)\n",
        "print(\"Gradient Boosting Training Accuracy:\", gb_train_acc)\n",
        "print(\"Gradient Boosting Testing Accuracy:\", gb_test_acc)\n",
        "print(\"\\n\")\n",
        "\n",
        "# Train KNN model\n",
        "knn_model = KNeighborsClassifier()\n",
        "knn_model.fit(X_train, y_train)\n",
        "\n",
        "# Evaluate KNN model accuracy\n",
        "knn_train_acc = knn_model.score(X_train, y_train)\n",
        "knn_test_acc = knn_model.score(X_test, y_test)\n",
        "print(\"KNN Training Accuracy:\", knn_train_acc)\n",
        "print(\"KNN Testing Accuracy:\", knn_test_acc)\n",
        "print(\"\\n\")\n",
        "# Train Naive Bayes model\n",
        "naive_bayes_model = GaussianNB()\n",
        "naive_bayes_model.fit(X_train, y_train)\n",
        "\n",
        "# Evaluate Naive Bayes model accuracy\n",
        "nb_train_acc = naive_bayes_model.score(X_train, y_train)\n",
        "nb_test_acc = naive_bayes_model.score(X_test, y_test)\n",
        "print(\"Naive Bayes Training Accuracy:\", nb_train_acc)\n",
        "print(\"Naive Bayes Testing Accuracy:\", nb_test_acc)\n",
        "print(\"\\n\")\n",
        "# Train Neural Network model\n",
        "neural_network_model = MLPClassifier()\n",
        "neural_network_model.fit(X_train, y_train)\n",
        "\n",
        "# Evaluate Neural Network model accuracy\n",
        "nn_train_acc = neural_network_model.score(X_train, y_train)\n",
        "nn_test_acc = neural_network_model.score(X_test, y_test)\n",
        "print(\"Neural Network Training Accuracy:\", nn_train_acc)\n",
        "print(\"Neural Network Testing Accuracy:\", nn_test_acc)\n",
        "print(\"\\n\")"
      ]
    },
    {
      "cell_type": "code",
      "execution_count": 116,
      "metadata": {},
      "outputs": [
        {
          "name": "stderr",
          "output_type": "stream",
          "text": [
            "e:\\ResearchRetina\\New folder\\envs\\retinopathuy\\lib\\site-packages\\sklearn\\linear_model\\_logistic.py:469: ConvergenceWarning: lbfgs failed to converge (status=1):\n",
            "STOP: TOTAL NO. of ITERATIONS REACHED LIMIT.\n",
            "\n",
            "Increase the number of iterations (max_iter) or scale the data as shown in:\n",
            "    https://scikit-learn.org/stable/modules/preprocessing.html\n",
            "Please also refer to the documentation for alternative solver options:\n",
            "    https://scikit-learn.org/stable/modules/linear_model.html#logistic-regression\n",
            "  n_iter_i = _check_optimize_result(\n"
          ]
        },
        {
          "name": "stdout",
          "output_type": "stream",
          "text": [
            "LogisticRegression() -->0.7467532467532467\n",
            "DecisionTreeClassifier() -->0.7727272727272727\n",
            "Random Forest Accuracy: 0.7272727272727273\n",
            "SVM Accuracy: 0.7662337662337663\n",
            "Gradient Boosting Accuracy: 0.7467532467532467\n",
            "KNN Accuracy: 0.6623376623376623\n",
            "Naive Bayes Accuracy: 0.7662337662337663\n",
            "Neural Network Accuracy: 0.6948051948051948\n"
          ]
        }
      ],
      "source": [
        "from sklearn.linear_model import LogisticRegression\n",
        "lr = LogisticRegression()\n",
        "model_acc(lr)\n",
        "\n",
        "from sklearn.tree import DecisionTreeClassifier\n",
        "dt = DecisionTreeClassifier()\n",
        "model_acc(dt)\n",
        "\n",
        "from sklearn.ensemble import RandomForestClassifier\n",
        "\n",
        "# Train Random Forest model\n",
        "random_forest_model = RandomForestClassifier()\n",
        "random_forest_model.fit(X_train, y_train)\n",
        "\n",
        "# Evaluate model accuracy\n",
        "accuracy = random_forest_model.score(X_test, y_test)\n",
        "print(\"Random Forest Accuracy:\", accuracy)\n",
        "\n",
        "\n",
        "from sklearn.svm import SVC\n",
        "\n",
        "# Train SVM model\n",
        "svm_model = SVC()\n",
        "svm_model.fit(X_train, y_train)\n",
        "\n",
        "# Evaluate model accuracy\n",
        "accuracy = svm_model.score(X_test, y_test)\n",
        "print(\"SVM Accuracy:\", accuracy)\n",
        "\n",
        "\n",
        "from sklearn.ensemble import GradientBoostingClassifier\n",
        "\n",
        "# Train Gradient Boosting model\n",
        "gradient_boosting_model = GradientBoostingClassifier()\n",
        "gradient_boosting_model.fit(X_train, y_train)\n",
        "\n",
        "# Evaluate model accuracy\n",
        "accuracy = gradient_boosting_model.score(X_test, y_test)\n",
        "print(\"Gradient Boosting Accuracy:\", accuracy)\n",
        "\n",
        "from sklearn.neighbors import KNeighborsClassifier\n",
        "\n",
        "# Train KNN model\n",
        "knn_model = KNeighborsClassifier()\n",
        "knn_model.fit(X_train, y_train)\n",
        "\n",
        "# Evaluate model accuracy\n",
        "accuracy = knn_model.score(X_test, y_test)\n",
        "print(\"KNN Accuracy:\", accuracy)\n",
        "\n",
        "\n",
        "from sklearn.naive_bayes import GaussianNB\n",
        "\n",
        "# Train Naive Bayes model\n",
        "naive_bayes_model = GaussianNB()\n",
        "naive_bayes_model.fit(X_train, y_train)\n",
        "\n",
        "# Evaluate model accuracy\n",
        "accuracy = naive_bayes_model.score(X_test, y_test)\n",
        "print(\"Naive Bayes Accuracy:\", accuracy)\n",
        "\n",
        "from sklearn.neural_network import MLPClassifier\n",
        "\n",
        "# Train Neural Network model\n",
        "neural_network_model = MLPClassifier()\n",
        "neural_network_model.fit(X_train, y_train)\n",
        "\n",
        "# Evaluate model accuracy\n",
        "accuracy = neural_network_model.score(X_test, y_test)\n",
        "print(\"Neural Network Accuracy:\", accuracy)\n",
        "\n"
      ]
    },
    {
      "cell_type": "code",
      "execution_count": 117,
      "metadata": {
        "id": "EFu9_U7n0oDn"
      },
      "outputs": [],
      "source": [
        "class_weights = compute_class_weight('balanced', classes=np.unique(y_train), y=y_train)\n",
        "class_weight = {i: class_weights[i] for i in range(len(class_weights))}"
      ]
    },
    {
      "cell_type": "code",
      "execution_count": 119,
      "metadata": {
        "id": "mIGbrfF90oAl"
      },
      "outputs": [],
      "source": [
        "model = Sequential()\n",
        "\n",
        "model.add(Dense(128, activation='relu', input_shape=(X.shape[1],)))\n",
        "model.add(BatchNormalization())\n",
        "model.add(Dropout(0.2))\n",
        "\n",
        "model.add(Dense(256, activation='relu'))\n",
        "model.add(BatchNormalization())\n",
        "model.add(Dropout(0.3))\n",
        "\n",
        "model.add(Dense(128, activation='relu'))\n",
        "model.add(BatchNormalization())\n",
        "model.add(Dropout(0.3))\n",
        "\n",
        "model.add(Dense(64, activation='relu'))\n",
        "model.add(BatchNormalization())\n",
        "model.add(Dropout(0.3))\n",
        "\n",
        "model.add(Dense(1, activation='sigmoid'))"
      ]
    },
    {
      "cell_type": "code",
      "execution_count": 120,
      "metadata": {
        "id": "Fb32w2Z30n94"
      },
      "outputs": [],
      "source": [
        "model.compile(optimizer='adam', loss='binary_crossentropy', metrics=['accuracy'])\n"
      ]
    },
    {
      "cell_type": "code",
      "execution_count": 121,
      "metadata": {
        "id": "eYJ9dz6d0n7H"
      },
      "outputs": [],
      "source": [
        "early_stopping = EarlyStopping(monitor='val_loss', patience=30, restore_best_weights=True)\n",
        "model_checkpoint = ModelCheckpoint('best_model.h5', monitor='val_accuracy', mode='max', save_best_only=True)"
      ]
    },
    {
      "cell_type": "code",
      "execution_count": 128,
      "metadata": {
        "colab": {
          "base_uri": "https://localhost:8080/"
        },
        "id": "gF8v68Go0n3_",
        "outputId": "b0c00594-6b50-4491-fddd-e44736fba7db"
      },
      "outputs": [
        {
          "name": "stdout",
          "output_type": "stream",
          "text": [
            "Epoch 1/100\n",
            "16/16 [==============================] - 0s 9ms/step - loss: 0.4612 - accuracy: 0.7800 - val_loss: 0.4600 - val_accuracy: 0.7642\n",
            "Epoch 2/100\n",
            "16/16 [==============================] - 0s 5ms/step - loss: 0.4811 - accuracy: 0.7617 - val_loss: 0.4840 - val_accuracy: 0.7561\n",
            "Epoch 3/100\n",
            "16/16 [==============================] - 0s 5ms/step - loss: 0.4517 - accuracy: 0.7821 - val_loss: 0.4742 - val_accuracy: 0.7561\n",
            "Epoch 4/100\n",
            "16/16 [==============================] - 0s 5ms/step - loss: 0.4491 - accuracy: 0.7800 - val_loss: 0.4881 - val_accuracy: 0.7642\n",
            "Epoch 5/100\n",
            "16/16 [==============================] - 0s 5ms/step - loss: 0.4578 - accuracy: 0.7760 - val_loss: 0.4962 - val_accuracy: 0.7561\n",
            "Epoch 6/100\n",
            "16/16 [==============================] - 0s 7ms/step - loss: 0.4564 - accuracy: 0.7902 - val_loss: 0.5133 - val_accuracy: 0.7642\n",
            "Epoch 7/100\n",
            "16/16 [==============================] - 0s 6ms/step - loss: 0.4545 - accuracy: 0.7923 - val_loss: 0.5141 - val_accuracy: 0.7480\n",
            "Epoch 8/100\n",
            "16/16 [==============================] - 0s 6ms/step - loss: 0.4314 - accuracy: 0.7902 - val_loss: 0.4973 - val_accuracy: 0.7317\n",
            "Epoch 9/100\n",
            "16/16 [==============================] - 0s 7ms/step - loss: 0.4208 - accuracy: 0.8086 - val_loss: 0.4980 - val_accuracy: 0.7480\n",
            "Epoch 10/100\n",
            "16/16 [==============================] - 0s 7ms/step - loss: 0.4251 - accuracy: 0.7821 - val_loss: 0.5389 - val_accuracy: 0.7480\n",
            "Epoch 11/100\n",
            "16/16 [==============================] - 0s 6ms/step - loss: 0.4279 - accuracy: 0.7821 - val_loss: 0.5575 - val_accuracy: 0.7317\n",
            "Epoch 12/100\n",
            "16/16 [==============================] - 0s 6ms/step - loss: 0.4268 - accuracy: 0.8106 - val_loss: 0.5498 - val_accuracy: 0.7073\n",
            "Epoch 13/100\n",
            "16/16 [==============================] - 0s 6ms/step - loss: 0.4048 - accuracy: 0.8289 - val_loss: 0.5463 - val_accuracy: 0.7236\n",
            "Epoch 14/100\n",
            "16/16 [==============================] - 0s 7ms/step - loss: 0.4135 - accuracy: 0.7943 - val_loss: 0.5571 - val_accuracy: 0.7398\n",
            "Epoch 15/100\n",
            "16/16 [==============================] - 0s 6ms/step - loss: 0.3838 - accuracy: 0.8310 - val_loss: 0.5473 - val_accuracy: 0.7398\n",
            "Epoch 16/100\n",
            "16/16 [==============================] - 0s 7ms/step - loss: 0.4229 - accuracy: 0.8208 - val_loss: 0.5413 - val_accuracy: 0.7561\n",
            "Epoch 17/100\n",
            "16/16 [==============================] - 0s 6ms/step - loss: 0.3830 - accuracy: 0.8269 - val_loss: 0.5396 - val_accuracy: 0.7480\n",
            "Epoch 18/100\n",
            "16/16 [==============================] - 0s 6ms/step - loss: 0.3595 - accuracy: 0.8432 - val_loss: 0.5389 - val_accuracy: 0.7642\n",
            "Epoch 19/100\n",
            "16/16 [==============================] - 0s 6ms/step - loss: 0.4350 - accuracy: 0.8086 - val_loss: 0.5360 - val_accuracy: 0.7561\n",
            "Epoch 20/100\n",
            "16/16 [==============================] - 0s 7ms/step - loss: 0.4259 - accuracy: 0.8248 - val_loss: 0.5233 - val_accuracy: 0.7398\n",
            "Epoch 21/100\n",
            "16/16 [==============================] - 0s 5ms/step - loss: 0.4274 - accuracy: 0.7943 - val_loss: 0.5133 - val_accuracy: 0.7642\n",
            "Epoch 22/100\n",
            "16/16 [==============================] - 0s 5ms/step - loss: 0.3622 - accuracy: 0.8432 - val_loss: 0.5314 - val_accuracy: 0.7480\n",
            "Epoch 23/100\n",
            "16/16 [==============================] - 0s 6ms/step - loss: 0.4169 - accuracy: 0.8208 - val_loss: 0.5286 - val_accuracy: 0.7480\n",
            "Epoch 24/100\n",
            "16/16 [==============================] - 0s 6ms/step - loss: 0.4062 - accuracy: 0.8024 - val_loss: 0.5323 - val_accuracy: 0.7480\n",
            "Epoch 25/100\n",
            "16/16 [==============================] - 0s 7ms/step - loss: 0.3924 - accuracy: 0.8289 - val_loss: 0.5257 - val_accuracy: 0.7561\n",
            "Epoch 26/100\n",
            "16/16 [==============================] - 0s 6ms/step - loss: 0.3918 - accuracy: 0.8187 - val_loss: 0.5230 - val_accuracy: 0.7317\n",
            "Epoch 27/100\n",
            "16/16 [==============================] - 0s 5ms/step - loss: 0.3931 - accuracy: 0.8187 - val_loss: 0.5253 - val_accuracy: 0.7398\n",
            "Epoch 28/100\n",
            "16/16 [==============================] - 0s 5ms/step - loss: 0.3720 - accuracy: 0.8248 - val_loss: 0.5281 - val_accuracy: 0.7561\n",
            "Epoch 29/100\n",
            "16/16 [==============================] - 0s 5ms/step - loss: 0.4269 - accuracy: 0.8045 - val_loss: 0.5314 - val_accuracy: 0.7480\n",
            "Epoch 30/100\n",
            "16/16 [==============================] - 0s 5ms/step - loss: 0.3566 - accuracy: 0.8269 - val_loss: 0.5385 - val_accuracy: 0.7317\n",
            "Epoch 31/100\n",
            "16/16 [==============================] - 0s 6ms/step - loss: 0.3840 - accuracy: 0.8167 - val_loss: 0.5421 - val_accuracy: 0.7317\n"
          ]
        }
      ],
      "source": [
        "history = model.fit(X_train_scaled, y_train, epochs=100, batch_size=32, verbose=1,\n",
        "                    validation_split=0.2, callbacks=[early_stopping, model_checkpoint], class_weight=class_weight)\n"
      ]
    },
    {
      "cell_type": "code",
      "execution_count": 129,
      "metadata": {
        "id": "h7wwZ4q30n1L"
      },
      "outputs": [],
      "source": [
        "best_model = tf.keras.models.load_model('best_model.h5')\n"
      ]
    },
    {
      "cell_type": "code",
      "execution_count": 130,
      "metadata": {
        "colab": {
          "base_uri": "https://localhost:8080/"
        },
        "id": "e3HW_L8m0nyi",
        "outputId": "a9754210-43e9-41cc-fc2d-e3de263cd909"
      },
      "outputs": [
        {
          "name": "stdout",
          "output_type": "stream",
          "text": [
            "5/5 [==============================] - 0s 1ms/step\n"
          ]
        }
      ],
      "source": [
        "y_pred_prob = best_model.predict(X_test_scaled)\n",
        "y_pred = (y_pred_prob > 0.5).astype(int)"
      ]
    },
    {
      "cell_type": "code",
      "execution_count": 131,
      "metadata": {
        "id": "vGIZdH9s0nvJ"
      },
      "outputs": [],
      "source": [
        "accuracy = accuracy_score(y_test, y_pred)\n",
        "precision = precision_score(y_test, y_pred)\n",
        "recall = recall_score(y_test, y_pred)\n",
        "f1 = f1_score(y_test, y_pred)"
      ]
    },
    {
      "cell_type": "code",
      "execution_count": 133,
      "metadata": {
        "colab": {
          "base_uri": "https://localhost:8080/"
        },
        "id": "l13Qhwno09MG",
        "outputId": "95bb1af6-48a4-4fe4-f4ad-401c81cb7af4"
      },
      "outputs": [
        {
          "name": "stdout",
          "output_type": "stream",
          "text": [
            "Test Accuracy: 0.6948051948051948\n",
            "Training Accuracy: 0.8167006373405457\n",
            "Precision: 0.5625\n",
            "Recall: 0.6545454545454545\n",
            "F1 Score: 0.6050420168067226\n"
          ]
        }
      ],
      "source": [
        "\n",
        "# Get training accuracy\n",
        "training_accuracy = history.history['accuracy'][-1]  # Last epoch's accuracy\n",
        "\n",
        "\n",
        "print(\"Test Accuracy:\", accuracy)\n",
        "print(\"Training Accuracy:\", training_accuracy)\n",
        "print(\"Precision:\", precision)\n",
        "print(\"Recall:\", recall)\n",
        "print(\"F1 Score:\", f1)"
      ]
    },
    {
      "cell_type": "code",
      "execution_count": 104,
      "metadata": {
        "colab": {
          "base_uri": "https://localhost:8080/",
          "height": 472
        },
        "id": "CgcSTqvJ09JO",
        "outputId": "c01a08c4-e88a-4c15-d404-3714c2925057"
      },
      "outputs": [
        {
          "data": {
            "image/png": "[encoded data removed]",
            "text/plain": [
              "<Figure size 640x480 with 1 Axes>"
            ]
          },
          "metadata": {},
          "output_type": "display_data"
        }
      ],
      "source": [
        "plt.plot(history.history['accuracy'], label='Training Accuracy')\n",
        "plt.plot(history.history['val_accuracy'], label='Validation Accuracy')\n",
        "plt.xlabel('Epoch')\n",
        "plt.ylabel('Accuracy')\n",
        "plt.title('Training and Validation Accuracies')\n",
        "plt.legend()\n",
        "plt.show()"
      ]
    },
    {
      "cell_type": "code",
      "execution_count": 22,
      "metadata": {
        "colab": {
          "base_uri": "https://localhost:8080/",
          "height": 472
        },
        "id": "WuXXV3hu09Fq",
        "outputId": "4a84a380-9ace-479a-f4c9-f6fbf85d2b56"
      },
      "outputs": [
        {
          "data": {
            "image/png": "[encoded data removed]",
            "text/plain": [
              "<Figure size 640x480 with 2 Axes>"
            ]
          },
          "metadata": {},
          "output_type": "display_data"
        }
      ],
      "source": [
        "conf_mat = confusion_matrix(y_test, y_pred)\n",
        "plt.imshow(conf_mat, cmap='Blues', interpolation='nearest')\n",
        "plt.title('Confusion Matrix')\n",
        "plt.colorbar()\n",
        "plt.xlabel('Predicted Label')\n",
        "plt.ylabel('True Label')\n",
        "plt.xticks([0, 1], ['Non-Diabetic', 'Diabetic'])\n",
        "plt.yticks([0, 1], ['Non-Diabetic', 'Diabetic'])\n",
        "for i in range(len(conf_mat)):\n",
        "    for j in range(len(conf_mat)):\n",
        "        plt.text(j, i, str(conf_mat[i, j]), ha='center', va='center', color='white')\n",
        "plt.show()"
      ]
    },
    {
      "cell_type": "code",
      "execution_count": null,
      "metadata": {
        "id": "LSzc7bQQ09Ct"
      },
      "outputs": [],
      "source": [
        "import numpy as np\n",
        "import tensorflow as tf\n",
        "\n",
        "def load_and_predict(saved_model_path, new_data):\n",
        "\n",
        "    loaded_model = tf.keras.models.load_model(saved_model_path)\n",
        "\n",
        "    predictions = loaded_model.predict(new_data)\n",
        "\n",
        "    return predictions\n",
        "\n",
        "saved_model_path = 'best_model.h5'\n",
        "new_data = np.array([[2, 100, 70, 20, 50, 25.0, 0.5, 40]])\n",
        "predictions = load_and_predict(saved_model_path, new_data)\n",
        "print(\"Predictions:\", predictions)"
      ]
    }
  ],
  "metadata": {
    "colab": {
      "provenance": []
    },
    "kernelspec": {
      "display_name": "Python 3",
      "name": "python3"
    },
    "language_info": {
      "codemirror_mode": {
        "name": "ipython",
        "version": 3
      },
      "file_extension": ".py",
      "mimetype": "text/x-python",
      "name": "python",
      "nbconvert_exporter": "python",
      "pygments_lexer": "ipython3",
      "version": "3.9.19"
    }
  },
  "nbformat": 4,
  "nbformat_minor": 0
}
